{
  "nbformat": 4,
  "nbformat_minor": 0,
  "metadata": {
    "colab": {
      "name": "FractureDetection.ipynb",
      "provenance": [],
      "collapsed_sections": [],
      "toc_visible": true,
      "authorship_tag": "ABX9TyNRTr9V5YZMo5wlDO8opj4l",
      "include_colab_link": true
    },
    "kernelspec": {
      "name": "python3",
      "display_name": "Python 3"
    },
    "accelerator": "GPU"
  },
  "cells": [
    {
      "cell_type": "markdown",
      "metadata": {
        "id": "view-in-github",
        "colab_type": "text"
      },
      "source": [
        "<a href=\"https://colab.research.google.com/github/lsaif/FractureDetection/blob/master/FractureDetection.ipynb\" target=\"_parent\"><img src=\"https://colab.research.google.com/assets/colab-badge.svg\" alt=\"Open In Colab\"/></a>"
      ]
    },
    {
      "cell_type": "markdown",
      "metadata": {
        "id": "ZOAC6mlB733f",
        "colab_type": "text"
      },
      "source": [
        "###Authenticate to access Google Drive"
      ]
    },
    {
      "cell_type": "code",
      "metadata": {
        "id": "atu2tmvF0WgN",
        "colab_type": "code",
        "colab": {}
      },
      "source": [
        "from pydrive.auth import GoogleAuth\n",
        "from pydrive.drive import GoogleDrive\n",
        "from google.colab import auth\n",
        "from oauth2client.client import GoogleCredentials\n",
        "auth.authenticate_user()\n",
        "gauth = GoogleAuth()\n",
        "gauth.credentials = GoogleCredentials.get_application_default()\n",
        "drive = GoogleDrive(gauth)"
      ],
      "execution_count": 0,
      "outputs": []
    },
    {
      "cell_type": "markdown",
      "metadata": {
        "id": "SdLFxEgD79Y_",
        "colab_type": "text"
      },
      "source": [
        "###Import supporting libraries"
      ]
    },
    {
      "cell_type": "code",
      "metadata": {
        "id": "j6P3EWR58Eb4",
        "colab_type": "code",
        "outputId": "6b39eef7-2946-4d0a-d31b-34dc826f4ac0",
        "colab": {
          "base_uri": "https://localhost:8080/",
          "height": 36
        }
      },
      "source": [
        "import sys\n",
        "import numpy as np\n",
        "import pandas as pd\n",
        "import seaborn as sns\n",
        "import matplotlib.pyplot as plt\n",
        "from sklearn import model_selection\n",
        "from sklearn.preprocessing import MinMaxScaler, label_binarize\n",
        "import torch\n",
        "from torch import nn\n",
        "from torch import optim\n",
        "from torch.utils.data import TensorDataset, DataLoader\n",
        "from torchvision import transforms\n",
        "import timeit\n",
        "\n",
        "np.set_printoptions(threshold=sys.maxsize)\n",
        "pd.set_option('display.max_rows', None)\n",
        "pd.set_option('display.max_columns', None)\n",
        "pd.set_option('display.width', None)\n",
        "\n",
        "device = torch.device('cuda' if torch.cuda.is_available() else 'cpu')\n",
        "print('Using device:', device)"
      ],
      "execution_count": 313,
      "outputs": [
        {
          "output_type": "stream",
          "text": [
            "Using device: cuda\n"
          ],
          "name": "stdout"
        }
      ]
    },
    {
      "cell_type": "markdown",
      "metadata": {
        "id": "3vFbkvFe9TlS",
        "colab_type": "text"
      },
      "source": [
        "###Data Loading"
      ]
    },
    {
      "cell_type": "code",
      "metadata": {
        "id": "YQ4mO-Ju9SW5",
        "colab_type": "code",
        "colab": {}
      },
      "source": [
        "def LoadData(url,filename):\n",
        "  fluff, id = url.split('=')\n",
        "  downloaded = drive.CreateFile({'id':id}) \n",
        "  downloaded.GetContentFile(filename)\n",
        "  return filename\n",
        "\n",
        "LoadData(url=\"https://drive.google.com/open?id=1qnGa_lKiTHcmclC-__yLMV8QYksMFeLO\", filename=\"fractureintensitydata.csv\")\n",
        "dset = pd.read_csv(\"fractureintensitydata.csv\").set_index('WELL')\n",
        "print(dset.head(5))\n",
        "dset = dset.dropna()"
      ],
      "execution_count": 0,
      "outputs": []
    },
    {
      "cell_type": "markdown",
      "metadata": {
        "id": "vwPqsVca-5xt",
        "colab_type": "text"
      },
      "source": [
        "###Data Preprocessing"
      ]
    },
    {
      "cell_type": "markdown",
      "metadata": {
        "id": "SGelv1flAD-i",
        "colab_type": "text"
      },
      "source": [
        "####Calculation"
      ]
    },
    {
      "cell_type": "code",
      "metadata": {
        "id": "vhsC8o3X-5AO",
        "colab_type": "code",
        "colab": {}
      },
      "source": [
        "dset['RES']=dset.ILD / dset.PROX\n",
        "dset['DRHOB']=dset.RHOB - dset.RHO_COR\n",
        "dset['FRAC']=dset['INTENSITY'].apply(lambda x: (1 if x >0 else 0))"
      ],
      "execution_count": 0,
      "outputs": []
    },
    {
      "cell_type": "markdown",
      "metadata": {
        "id": "e4P1-W5c_B8o",
        "colab_type": "text"
      },
      "source": [
        "####Visualization"
      ]
    },
    {
      "cell_type": "code",
      "metadata": {
        "id": "aSIOu540_JOa",
        "colab_type": "code",
        "colab": {}
      },
      "source": [
        "sns.set()\n",
        "sns.pairplot(dset)\n",
        "\n",
        "corr = dset.corr()\n",
        "sns.heatmap(corr, cmap = 'YlGn', xticklabels=corr.columns,yticklabels=corr.columns, annot=True, linewidth = 5) \n",
        "\n",
        "#sns.pairplot(dset[[\"GR\", \"RHOB\", \"RHO_COR\", \"ILD\", \"PROX\", \"SPI\", \"DT\", \"CALI\", \"INTENSITY\"]], diag_kind=\"kde\")"
      ],
      "execution_count": 0,
      "outputs": []
    },
    {
      "cell_type": "markdown",
      "metadata": {
        "id": "pgdaL3zG_FSn",
        "colab_type": "text"
      },
      "source": [
        "####Preprocessing"
      ]
    },
    {
      "cell_type": "code",
      "metadata": {
        "id": "QQbRJQNs_KA5",
        "colab_type": "code",
        "colab": {}
      },
      "source": [
        "dataset = dset[['DEPTH','GR','RES','DRHOB','RHOB','CALI','SPI','DT','INTENSITY','FRAC']].copy()\n",
        "db = dataset[dataset.index == 'JTB-118']\n",
        "#db = pd.concat([db,dataset[dataset.index == 'JTB-120']],sort=False)\n",
        "X = db.iloc[:,1:8].values\n",
        "Y = db.iloc[:,-1].values.reshape(-1,1)\n",
        "#Y = label_binarize(Y, classes=[0,1])\n",
        "\n",
        "test = 0.20\n",
        "seed = 0\n",
        "batch = 1500\n",
        "X_train, X_val, Y_train, Y_val = model_selection.train_test_split(X, Y, test_size=test, random_state=seed)\n",
        "\n",
        "#scaler = MinMaxScaler()\n",
        "#Y_train = scaler.fit_transform(Y_train)\n",
        "#Y_val = scaler.transform(Y_val)\n",
        "\n",
        "transform = transforms.Compose([transforms.ToTensor(),\n",
        "                                transforms.Normalize((0.5,), (0.5,))])\n",
        "\n",
        "X_train = torch.from_numpy(X_train).float().to(device)\n",
        "Y_train = torch.from_numpy(Y_train).to(device)\n",
        "X_val = torch.from_numpy(X_val).float().to(device)\n",
        "Y_val = torch.from_numpy(Y_val).to(device)\n",
        "\n",
        "trainset = TensorDataset(X_train, Y_train)\n",
        "trainloader = DataLoader(trainset, batch_size=batch, shuffle=True)\n",
        "\n",
        "valset = TensorDataset(X_val, Y_val)\n",
        "valloader = DataLoader(valset, batch_size=batch, shuffle=True)\n",
        "\n",
        "print (Y_train)"
      ],
      "execution_count": 0,
      "outputs": []
    },
    {
      "cell_type": "markdown",
      "metadata": {
        "id": "EyWmQ2peA26W",
        "colab_type": "text"
      },
      "source": [
        "###Model"
      ]
    },
    {
      "cell_type": "code",
      "metadata": {
        "id": "d-i4tCIRA8Mn",
        "colab_type": "code",
        "colab": {}
      },
      "source": [
        "class Network(nn.Module):\n",
        "    def __init__(self):\n",
        "        super().__init__()\n",
        "        self.hidden = nn.Linear(7, 4)\n",
        "        self.output = nn.Linear(4, 2)\n",
        "        self.relu = nn.ReLU()\n",
        "        self.sigmoid = nn.Sigmoid()\n",
        "        self.logsoftmax = nn.LogSoftmax()\n",
        "        self.softmax = nn.Softmax(dim=1)\n",
        "        \n",
        "    def forward(self, x):\n",
        "        x = self.hidden(x)\n",
        "        x = self.output(x)\n",
        "        x = self.logsoftmax(x)\n",
        "        \n",
        "        return x"
      ],
      "execution_count": 0,
      "outputs": []
    },
    {
      "cell_type": "markdown",
      "metadata": {
        "id": "Yhfy4WYUBLMq",
        "colab_type": "text"
      },
      "source": [
        "###Train, test, predict"
      ]
    },
    {
      "cell_type": "code",
      "metadata": {
        "id": "WnhrGCOJBZ0i",
        "colab_type": "code",
        "colab": {}
      },
      "source": [
        "model = Network()\n",
        "model.cuda()\n",
        "Xtrain, Ytrain = next(iter(trainloader))\n",
        "Xval, Yval = next(iter(valloader))\n",
        "\n",
        "criterion = nn.CrossEntropyLoss()\n",
        "optimizer = optim.Adam(model.parameters(),lr= 0.001)\n",
        "epoch = 200\n",
        "loss_ = []\n",
        "loss_test = []\n",
        "for i in range(epoch):\n",
        "    running_loss = 0\n",
        "    runningloss_test = 0\n",
        "    for Xtrain, Ytrain in trainloader:\n",
        "        Ytrain = Ytrain.view(-1)\n",
        "        optimizer.zero_grad()\n",
        "        out = model(Xtrain)\n",
        "        print(out.shape)\n",
        "        print(Ytrain.shape)\n",
        "        loss = criterion(out,Ytrain)\n",
        "        loss.backward()\n",
        "        optimizer.step()\n",
        "        running_loss += loss.item()\n",
        "    else:\n",
        "        Yval = Yval.view(-1)\n",
        "        with torch.no_grad():\n",
        "          logps = model(Xval)\n",
        "        predict = torch.exp(logps).argmax(1)\n",
        "        runningloss_test = criterion(logps,Yval).cpu().numpy()\n",
        "        #loss_test += runningloss_test.item()\n",
        "        print(f\"Training loss: {running_loss/len(trainloader)}\")\n",
        "        print(f\"Val loss: {runningloss_test/len(valloader)}\")\n",
        "        loss_test.append(runningloss_test/len(valloader))\n",
        "        loss_.append(running_loss/len(trainloader))"
      ],
      "execution_count": 0,
      "outputs": []
    },
    {
      "cell_type": "markdown",
      "metadata": {
        "id": "fp5-aRPiBcFr",
        "colab_type": "text"
      },
      "source": [
        "###History"
      ]
    },
    {
      "cell_type": "code",
      "metadata": {
        "id": "7IxZMbAaBmoP",
        "colab_type": "code",
        "outputId": "3e723a56-2b84-4c74-f264-c366646070aa",
        "colab": {
          "base_uri": "https://localhost:8080/",
          "height": 454
        }
      },
      "source": [
        "plt.plot(range(epoch),loss_,label=\"training set\")\n",
        "plt.plot(range(epoch),loss_test,label=\"test set\")\n",
        "plt.ylim([0,50])\n",
        "plt.legend()"
      ],
      "execution_count": 454,
      "outputs": [
        {
          "output_type": "execute_result",
          "data": {
            "text/plain": [
              "<matplotlib.legend.Legend at 0x7f6ec1bab2b0>"
            ]
          },
          "metadata": {
            "tags": []
          },
          "execution_count": 454
        },
        {
          "output_type": "display_data",
          "data": {
            "image/png": "[encoded data removed]",
            "text/plain": [
              "<Figure size 640x480 with 1 Axes>"
            ]
          },
          "metadata": {
            "tags": []
          }
        }
      ]
    },
    {
      "cell_type": "markdown",
      "metadata": {
        "id": "PU6THCbECfSL",
        "colab_type": "text"
      },
      "source": [
        "###Blind test"
      ]
    },
    {
      "cell_type": "code",
      "metadata": {
        "id": "witg-s-wCiS7",
        "colab_type": "code",
        "colab": {}
      },
      "source": [
        "threshold = 0.8\n",
        "\n",
        "testset = dataset[dset.index == 'JTB-121'].dropna()\n",
        "X_test = torch.Tensor(testset.iloc[:,1:8].values)\n",
        "Y_test = torch.Tensor(testset.iloc[:,-1].values)\n",
        "X_test = X_test.to(device)\n",
        "Y_test = Y_test.to(device)\n",
        "with torch.no_grad():\n",
        "      logps = model(X_test)\n",
        "predict = torch.exp(logps).cpu()\n",
        "Y_predict = (predict[:,0] >= threshold).numpy().astype(int)\n",
        "#Y_predict = predict.argmax(1)\n",
        "#print(predict)\n",
        "testset['FRAC_PREDICT']=predict[:,1]"
      ],
      "execution_count": 0,
      "outputs": []
    },
    {
      "cell_type": "markdown",
      "metadata": {
        "id": "nxuTC_Z2CmR9",
        "colab_type": "text"
      },
      "source": [
        "####Visualize result"
      ]
    },
    {
      "cell_type": "code",
      "metadata": {
        "id": "SJehbpfqCpcJ",
        "colab_type": "code",
        "colab": {}
      },
      "source": [
        "d = testset['DEPTH']\n",
        "plt.style.use('default')\n",
        "\n",
        "fig = plt.gcf()\n",
        "fig.set_size_inches(3, 6)\n",
        "fig.gca().invert_yaxis()\n",
        "plt.tick_params(labelsize=10)\n",
        "plt.xlim([-0.1,3])\n",
        "plt.xlabel('Fracture probability',{'fontsize': 10, 'fontweight' : 5})\n",
        "plt.ylabel('Depth (m)',{'fontsize': 10, 'fontweight' : 5})\n",
        "plt.title(testset.index.any(),{'fontsize': 15, 'fontweight' : 5})\n",
        "#plt.scatter(testset['FRAC'],d,color='r',label='Actual')\n",
        "plt.plot(testset['FRAC_PREDICT'],d,label='Proba')\n",
        "#plt.plot(testset['SPI']+0.5,d,label='SPI')\n",
        "#plt.plot(testset['INTENSITY']/10,d,label='Intensity')\n",
        "plt.legend()"
      ],
      "execution_count": 0,
      "outputs": []
    },
    {
      "cell_type": "markdown",
      "metadata": {
        "id": "ef-B9xbY5eq2",
        "colab_type": "text"
      },
      "source": [
        "####Accuracy"
      ]
    },
    {
      "cell_type": "code",
      "metadata": {
        "id": "w8ntAxsP5hcU",
        "colab_type": "code",
        "colab": {}
      },
      "source": [
        "from sklearn.metrics import confusion_matrix, accuracy_score, mean_absolute_error, mean_squared_error, r2_score, explained_variance_score\n",
        "Y_test = Y_test.cpu()\n",
        "mse_val = mean_squared_error(predict[:,1],Y_test)\n",
        "mae_val = mean_absolute_error(predict[:,1],Y_test)\n",
        "variance_val = explained_variance_score(predict[:,1],Y_test)\n",
        "r2_val = r2_score(predict[:,1],Y_test)\n",
        "acc_val = accuracy_score(Y_predict,Y_test)\n",
        "cm = confusion_matrix(Y_test, Y_predict)\n",
        "print('mse= ',mse_val,'\\nmae= ',mae_val,'\\nvar= ',variance_val,'\\nr2= ',r2_val,'\\nacc= ',acc_val)\n",
        "print(cm)"
      ],
      "execution_count": 0,
      "outputs": []
    },
    {
      "cell_type": "markdown",
      "metadata": {
        "id": "pt3BBGRlqaCu",
        "colab_type": "text"
      },
      "source": [
        "### Save model"
      ]
    },
    {
      "cell_type": "code",
      "metadata": {
        "id": "QOYOlgf1qggy",
        "colab_type": "code",
        "colab": {}
      },
      "source": [
        "print(\"Model's state_dict:\")\n",
        "for param_tensor in model.state_dict():\n",
        "    print(param_tensor, \"\\t\", model.state_dict()[param_tensor].size())\n",
        "\n",
        "print(\"Optimizer's state_dict:\")\n",
        "for var_name in optimizer.state_dict():\n",
        "    print(var_name, \"\\t\", optimizer.state_dict()[var_name])\n",
        "\n",
        "from google.colab import drive\n",
        "drive.mount('/content/gdrive')\n",
        "model_save_name = 'model2604.pt'\n",
        "path = F\"/content/gdrive/My Drive/FracDet/{model_save_name}\" \n",
        "torch.save(model.state_dict(), path)"
      ],
      "execution_count": 0,
      "outputs": []
    }
  ]
}