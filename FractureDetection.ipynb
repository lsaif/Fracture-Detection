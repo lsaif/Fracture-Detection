{
  "nbformat": 4,
  "nbformat_minor": 0,
  "metadata": {
    "colab": {
      "name": "FractureDetection.ipynb",
      "provenance": [],
      "collapsed_sections": [],
      "toc_visible": true,
      "authorship_tag": "ABX9TyNc5mTnkpsaoqKPlVeTDOxM",
      "include_colab_link": true
    },
    "kernelspec": {
      "name": "python3",
      "display_name": "Python 3"
    },
    "accelerator": "GPU"
  },
  "cells": [
    {
      "cell_type": "markdown",
      "metadata": {
        "id": "view-in-github",
        "colab_type": "text"
      },
      "source": [
        "<a href=\"https://colab.research.google.com/github/lsaif/FractureDetection/blob/master/FractureDetection.ipynb\" target=\"_parent\"><img src=\"https://colab.research.google.com/assets/colab-badge.svg\" alt=\"Open In Colab\"/></a>"
      ]
    },
    {
      "cell_type": "markdown",
      "metadata": {
        "id": "ZOAC6mlB733f",
        "colab_type": "text"
      },
      "source": [
        "###Authenticate to access Google Drive"
      ]
    },
    {
      "cell_type": "code",
      "metadata": {
        "id": "atu2tmvF0WgN",
        "colab_type": "code",
        "colab": {}
      },
      "source": [
        "from pydrive.auth import GoogleAuth\n",
        "from pydrive.drive import GoogleDrive\n",
        "from google.colab import auth\n",
        "from oauth2client.client import GoogleCredentials\n",
        "auth.authenticate_user()\n",
        "gauth = GoogleAuth()\n",
        "gauth.credentials = GoogleCredentials.get_application_default()\n",
        "drive = GoogleDrive(gauth)"
      ],
      "execution_count": 0,
      "outputs": []
    },
    {
      "cell_type": "markdown",
      "metadata": {
        "id": "SdLFxEgD79Y_",
        "colab_type": "text"
      },
      "source": [
        "###Import supporting libraries"
      ]
    },
    {
      "cell_type": "code",
      "metadata": {
        "id": "j6P3EWR58Eb4",
        "colab_type": "code",
        "outputId": "71ee4568-7f19-4a37-9dd9-995bd6a0c01f",
        "colab": {
          "base_uri": "https://localhost:8080/",
          "height": 36
        }
      },
      "source": [
        "import sys\n",
        "import numpy as np\n",
        "import pandas as pd\n",
        "import seaborn as sns\n",
        "import matplotlib.pyplot as plt\n",
        "from sklearn import model_selection\n",
        "from sklearn.preprocessing import StandardScaler, label_binarize\n",
        "import torch\n",
        "from torch import nn\n",
        "from torch import optim\n",
        "from torch.utils.data import TensorDataset, DataLoader\n",
        "from torchvision import transforms\n",
        "import timeit\n",
        "\n",
        "np.set_printoptions(threshold=sys.maxsize)\n",
        "pd.set_option('display.max_rows', None)\n",
        "pd.set_option('display.max_columns', None)\n",
        "pd.set_option('display.width', None)\n",
        "\n",
        "device = 'cpu'#torch.device('cuda' if torch.cuda.is_available() else 'cpu')\n",
        "print('Using device:', device)"
      ],
      "execution_count": 0,
      "outputs": [
        {
          "output_type": "stream",
          "text": [
            "Using device: cpu\n"
          ],
          "name": "stdout"
        }
      ]
    },
    {
      "cell_type": "markdown",
      "metadata": {
        "id": "3vFbkvFe9TlS",
        "colab_type": "text"
      },
      "source": [
        "###Data Loading"
      ]
    },
    {
      "cell_type": "code",
      "metadata": {
        "id": "YQ4mO-Ju9SW5",
        "colab_type": "code",
        "colab": {}
      },
      "source": [
        "def LoadData(url,filename):\n",
        "  fluff, id = url.split('=')\n",
        "  downloaded = drive.CreateFile({'id':id}) \n",
        "  downloaded.GetContentFile(filename)\n",
        "  return filename\n",
        "\n",
        "LoadData(url=\"https://drive.google.com/open?id=1qnGa_lKiTHcmclC-__yLMV8QYksMFeLO\", filename=\"fractureintensitydata.csv\")\n",
        "dset = pd.read_csv(\"fractureintensitydata.csv\").set_index('WELL')\n",
        "print(dset.head(5))\n",
        "dset = dset.dropna()"
      ],
      "execution_count": 0,
      "outputs": []
    },
    {
      "cell_type": "markdown",
      "metadata": {
        "id": "vwPqsVca-5xt",
        "colab_type": "text"
      },
      "source": [
        "###Data Preprocessing"
      ]
    },
    {
      "cell_type": "markdown",
      "metadata": {
        "id": "SGelv1flAD-i",
        "colab_type": "text"
      },
      "source": [
        "####Calculation"
      ]
    },
    {
      "cell_type": "code",
      "metadata": {
        "id": "vhsC8o3X-5AO",
        "colab_type": "code",
        "colab": {}
      },
      "source": [
        "dset['RES']=dset.ILD / dset.PROX\n",
        "dset['DRHOB']=dset.RHOB - dset.RHO_COR\n",
        "dset['FRAC']=dset['INTENSITY'].apply(lambda x: (1 if x >0 else 0))"
      ],
      "execution_count": 0,
      "outputs": []
    },
    {
      "cell_type": "markdown",
      "metadata": {
        "id": "e4P1-W5c_B8o",
        "colab_type": "text"
      },
      "source": [
        "####Visualization"
      ]
    },
    {
      "cell_type": "code",
      "metadata": {
        "id": "aSIOu540_JOa",
        "colab_type": "code",
        "colab": {}
      },
      "source": [
        "sns.set()\n",
        "sns.pairplot(dset)\n",
        "\n",
        "corr = dset.corr()\n",
        "sns.heatmap(corr, cmap = 'YlGn', xticklabels=corr.columns,yticklabels=corr.columns, annot=True, linewidth = 5) \n",
        "\n",
        "#sns.pairplot(dset[[\"GR\", \"RHOB\", \"RHO_COR\", \"ILD\", \"PROX\", \"SPI\", \"DT\", \"CALI\", \"INTENSITY\"]], diag_kind=\"kde\")"
      ],
      "execution_count": 0,
      "outputs": []
    },
    {
      "cell_type": "markdown",
      "metadata": {
        "id": "pgdaL3zG_FSn",
        "colab_type": "text"
      },
      "source": [
        "####Preprocessing"
      ]
    },
    {
      "cell_type": "code",
      "metadata": {
        "id": "QQbRJQNs_KA5",
        "colab_type": "code",
        "outputId": "3f5edcac-7407-4eff-be45-3b0cd7692a90",
        "colab": {
          "base_uri": "https://localhost:8080/",
          "height": 36
        }
      },
      "source": [
        "dataset = dset[['DEPTH','GR','RES','DRHOB','RHOB','CALI','SPI','DT','FRAC']].copy()\n",
        "db = dataset[dataset.index == 'JTB-118']\n",
        "X = db.iloc[:,1:8].values\n",
        "Y = db.iloc[:,-1].values\n",
        "#Y = label_binarize(Y, classes=[0,1])\n",
        "\n",
        "test = 0.20\n",
        "seed = 0\n",
        "batch = 1500\n",
        "X_train, X_test, Y_train, Y_test = model_selection.train_test_split(X, Y, test_size=test, random_state=seed)\n",
        "\n",
        "#scaler = StandardScaler()\n",
        "#X_train = scaler.fit_transform(X_train)\n",
        "#X_test = scaler.transform(X_test)\n",
        "\n",
        "transform = transforms.Compose([transforms.ToTensor(),\n",
        "                                transforms.Normalize((0.5,), (0.5,))])\n",
        "\n",
        "X_train = torch.from_numpy(X_train).float().to(device)\n",
        "Y_train = torch.from_numpy(Y_train).to(device)\n",
        "X_test = torch.from_numpy(X_test).float().to(device)\n",
        "Y_test = torch.from_numpy(Y_test).to(device)\n",
        "\n",
        "trainset = TensorDataset(X_train, Y_train)\n",
        "trainloader = DataLoader(trainset, batch_size=batch, shuffle=True)\n",
        "\n",
        "valset = TensorDataset(X_val, Y_val)\n",
        "valloader = DataLoader(valset, batch_size=batch, shuffle=True)\n",
        "\n",
        "print (Y_train.size())"
      ],
      "execution_count": 0,
      "outputs": [
        {
          "output_type": "stream",
          "text": [
            "torch.Size([1453])\n"
          ],
          "name": "stdout"
        }
      ]
    },
    {
      "cell_type": "markdown",
      "metadata": {
        "id": "EyWmQ2peA26W",
        "colab_type": "text"
      },
      "source": [
        "###Model"
      ]
    },
    {
      "cell_type": "code",
      "metadata": {
        "id": "d-i4tCIRA8Mn",
        "colab_type": "code",
        "colab": {}
      },
      "source": [
        "class Network(nn.Module):\n",
        "    def __init__(self):\n",
        "        super().__init__()\n",
        "        self.hidden = nn.Linear(7, 5)\n",
        "        self.output = nn.Linear(5, 1)\n",
        "        self.logsoftmax = nn.LogSoftmax()\n",
        "        self.softmax = nn.Softmax(dim=1)\n",
        "        \n",
        "    def forward(self, x):\n",
        "        x = self.hidden(x)\n",
        "        x = self.logsoftmax(x)\n",
        "        \n",
        "        return x"
      ],
      "execution_count": 0,
      "outputs": []
    },
    {
      "cell_type": "code",
      "metadata": {
        "id": "_XAcks6zlGXC",
        "colab_type": "code",
        "colab": {}
      },
      "source": [
        "class Model(nn.Module):\n",
        "  def __init__(self):\n",
        "    super(Model, self).__init__()\n",
        "    self.net = nn.Sequential(nn.Linear(7, 5),\n",
        "                             nn.LogSoftmax(dim=1))\n",
        "\n",
        "  def forward(self, x):\n",
        "    x = self.net(x)\n",
        "    return x"
      ],
      "execution_count": 0,
      "outputs": []
    },
    {
      "cell_type": "markdown",
      "metadata": {
        "id": "Yhfy4WYUBLMq",
        "colab_type": "text"
      },
      "source": [
        "###Train, test, predict"
      ]
    },
    {
      "cell_type": "code",
      "metadata": {
        "id": "WnhrGCOJBZ0i",
        "colab_type": "code",
        "colab": {}
      },
      "source": [
        "model = Network()\n",
        "#model.cuda()\n",
        "Xtrain, Ytrain = next(iter(trainloader))\n",
        "Xval, Yval = next(iter(valloader))\n",
        "\n",
        "criterion = nn.CrossEntropyLoss()\n",
        "optimizer = optim.Adam(model.parameters(),lr= 0.001)\n",
        "epoch = 1000\n",
        "loss_ = []\n",
        "loss_test = []\n",
        "for i in range(epoch):\n",
        "    running_loss = 0\n",
        "    runningloss_test = 0\n",
        "    for Xtrain, Ytrain in trainloader:\n",
        "        optimizer.zero_grad()\n",
        "        output = model(Xtrain)\n",
        "        loss = criterion(output,Ytrain)\n",
        "        loss.backward()\n",
        "        optimizer.step()\n",
        "        running_loss += loss.item()\n",
        "    else:\n",
        "        with torch.no_grad():\n",
        "          logps = model(Xval)\n",
        "        predict = torch.exp(logps).argmax(1)\n",
        "        runningloss_test = criterion(predict,Yval).cpu().numpy()\n",
        "        #loss_test += runningloss_test.item()\n",
        "        print(f\"Training loss: {running_loss/len(trainloader)}\")\n",
        "        print(f\"Val loss: {runningloss_test/len(testloader)}\")\n",
        "        loss_test.append(runningloss_test/len(testloader))\n",
        "        loss_.append(running_loss/len(trainloader))"
      ],
      "execution_count": 0,
      "outputs": []
    },
    {
      "cell_type": "markdown",
      "metadata": {
        "id": "fp5-aRPiBcFr",
        "colab_type": "text"
      },
      "source": [
        "###History"
      ]
    },
    {
      "cell_type": "code",
      "metadata": {
        "id": "7IxZMbAaBmoP",
        "colab_type": "code",
        "outputId": "ed1b58f0-f764-42b2-e1aa-2cd7366b326a",
        "colab": {
          "base_uri": "https://localhost:8080/",
          "height": 454
        }
      },
      "source": [
        "plt.plot(range(epoch),loss_,label=\"training set\")\n",
        "plt.plot(range(epoch),loss_test,label=\"test set\")\n",
        "plt.ylim([0,100])\n",
        "plt.legend()"
      ],
      "execution_count": 0,
      "outputs": [
        {
          "output_type": "execute_result",
          "data": {
            "text/plain": [
              "<matplotlib.legend.Legend at 0x7f7cf75873c8>"
            ]
          },
          "metadata": {
            "tags": []
          },
          "execution_count": 132
        },
        {
          "output_type": "display_data",
          "data": {
            "image/png": "[encoded data removed]",
            "text/plain": [
              "<Figure size 640x480 with 1 Axes>"
            ]
          },
          "metadata": {
            "tags": []
          }
        }
      ]
    },
    {
      "cell_type": "markdown",
      "metadata": {
        "id": "PU6THCbECfSL",
        "colab_type": "text"
      },
      "source": [
        "###Blind test"
      ]
    },
    {
      "cell_type": "code",
      "metadata": {
        "id": "witg-s-wCiS7",
        "colab_type": "code",
        "colab": {}
      },
      "source": [
        "threshold = 0.2\n",
        "\n",
        "testset = dataset[dset.index == 'JTB-159']\n",
        "X_test = torch.Tensor(testset.iloc[:,1:8].values)\n",
        "Y_test = torch.Tensor(testset.iloc[:,-1].values)\n",
        "testset = TensorDataset(X_blind, Y_blind)\n",
        "testloader = DataLoader(testset, batch_size=batch, shuffle=True)\n",
        "Xtest, Ytest = next(iter(testloader))\n",
        "#Xtest = scaler.transform(Xtest)\n",
        "with torch.no_grad():\n",
        "        logps = model(Xtest)\n",
        "predict = torch.exp(logps)\n",
        "Y_predict = (predict[:,0] >= threshold).numpy().astype(int)\n",
        "blindset['FRAC_PREDICT']=Y_predict\n",
        "print(Y_predict)"
      ],
      "execution_count": 0,
      "outputs": []
    },
    {
      "cell_type": "markdown",
      "metadata": {
        "id": "nxuTC_Z2CmR9",
        "colab_type": "text"
      },
      "source": [
        "####Visulaize result"
      ]
    },
    {
      "cell_type": "code",
      "metadata": {
        "id": "SJehbpfqCpcJ",
        "colab_type": "code",
        "outputId": "877f8071-8aaf-4a39-dd54-b534b8268821",
        "colab": {
          "base_uri": "https://localhost:8080/",
          "height": 893
        }
      },
      "source": [
        "a = blindset['FRAC_PREDICT']\n",
        "b = blindset['DEPTH']\n",
        "print(a.shape)\n",
        "plt.style.use('default')\n",
        "\n",
        "fig = plt.gcf()\n",
        "fig.set_size_inches(4, 10)\n",
        "fig.gca().invert_yaxis()\n",
        "plt.tick_params(labelsize=10)\n",
        "plt.xlim([0,2])\n",
        "plt.xlabel('Fracture possibility',{'fontsize': 15, 'fontweight' : 5})\n",
        "plt.ylabel('Depth (m)',{'fontsize': 15, 'fontweight' : 5})\n",
        "#plt.title(blindset.index,{'fontsize': 20, 'fontweight' : 5})\n",
        "plt.scatter(blindset['FRAC'],b,color='r',label='Actual')\n",
        "plt.plot(a,b,label='Prediction')\n",
        "plt.legend()"
      ],
      "execution_count": 0,
      "outputs": [
        {
          "output_type": "stream",
          "text": [
            "(480,)\n"
          ],
          "name": "stdout"
        },
        {
          "output_type": "execute_result",
          "data": {
            "text/plain": [
              "<matplotlib.legend.Legend at 0x7f7cf24ef358>"
            ]
          },
          "metadata": {
            "tags": []
          },
          "execution_count": 186
        },
        {
          "output_type": "display_data",
          "data": {
            "image/png": "[encoded data removed]",
            "text/plain": [
              "<Figure size 400x1000 with 1 Axes>"
            ]
          },
          "metadata": {
            "tags": []
          }
        }
      ]
    },
    {
      "cell_type": "markdown",
      "metadata": {
        "id": "ef-B9xbY5eq2",
        "colab_type": "text"
      },
      "source": [
        "####Accuracy"
      ]
    },
    {
      "cell_type": "code",
      "metadata": {
        "id": "w8ntAxsP5hcU",
        "colab_type": "code",
        "outputId": "551af74c-cbc5-4c0d-aee8-acc94a5f9112",
        "colab": {
          "base_uri": "https://localhost:8080/",
          "height": 148
        }
      },
      "source": [
        "from sklearn.metrics import confusion_matrix, accuracy_score, mean_absolute_error, mean_squared_error, r2_score, explained_variance_score\n",
        "\n",
        "mse_val = mean_squared_error(Y_predict,test)\n",
        "mae_val = mean_absolute_error(Y_predict,Ytest)\n",
        "variance_val = explained_variance_score(Y_predict,Ytest)\n",
        "r2_val = r2_score(Y_predict,Ytest)\n",
        "acc_val = accuracy_score(Y_predict,Ytest)\n",
        "cm = confusion_matrix(Ytest, Y_predict)\n",
        "print('mse= ',mse_val,'\\nmae= ',mae_val,'\\nvar= ',variance_val,'\\nr2= ',r2_val,'\\nacc= ',acc_val)\n",
        "print(cm)"
      ],
      "execution_count": 0,
      "outputs": [
        {
          "output_type": "stream",
          "text": [
            "mse=  0.30625 \n",
            "mae=  0.30625 \n",
            "var=  -2.6824815396243977 \n",
            "r2=  -3.102564102564103 \n",
            "acc=  0.69375\n",
            "[[  8 116]\n",
            " [ 31 325]]\n"
          ],
          "name": "stdout"
        }
      ]
    }
  ]
}